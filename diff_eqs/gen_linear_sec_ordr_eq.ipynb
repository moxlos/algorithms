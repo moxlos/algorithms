{
 "cells": [
  {
   "cell_type": "markdown",
   "id": "c3713dd5",
   "metadata": {},
   "source": [
    "### General linear second order differential equations. Boundary value problems\n",
    "\n",
    "\n",
    "\n",
    "$$\n",
    "\\left\\{\\begin{array}{l}\n",
    "\\underbrace{a(x) u_{x x}(x)}_{\\text {diffusion }}+\\underbrace{b(x) u_{x}(x)}_{\\text {advection }}+\\underbrace{c(x) u(x)}_{\\text {growth/decay }}=\\underbrace{f(x)}_{\\text {source }} x \\in ( 0,1) \\\\\n",
    "\\begin{array}{l}\n",
    "u(0)=\\alpha \\\\\n",
    "u(1)=\\beta\n",
    "\\end{array}\n",
    "\\end{array}\\right\\}\n",
    "$$\n",
    "Approximation:\n",
    "$a_{i} \\frac{u_{i-1}-2 u_{i}+u_{i+1}}{h^{2}}+b_{i} \\frac{u_{i+1}-u_{i-1}}{2 h}+c_{i} u_{i}=f_{i}$ where $a_{i}=a\\left(x_{i}\\right), b_{i}=b\\left(x_{i}\\right), c_{i}=c\\left(x_{i}\\right)$.\n",
    "\n",
    "We may write it as a linear system $A \\cdot \\vec{u}=\\vec{f}$, where\n",
    "$$\n",
    "\\begin{aligned}\n",
    "&\\vec{f}=\\left(\\begin{array}{c}\n",
    "f_{1}-\\left(\\frac{a_{1}}{h^{2}}-\\frac{b_{1}}{2 h}\\right) \\alpha \\\\\n",
    "f_{2} \\\\\n",
    "\\vdots \\\\\n",
    "f_{n-1} \\\\\n",
    "f_{n}-\\left(\\frac{a_{n}}{h^{2}}+\\frac{b_{n}}{2 h}\\right) \\beta\n",
    "\\end{array}\\right)\n",
    "\\end{aligned}\n",
    "$$\n",
    "and\n",
    "\n",
    "$$\n",
    "A = (1/h^2)\\left(\\begin{array}{ccccc}\n",
    "h^{2} c_{1}-2 a_{1} & a_{1}+\\frac{h b_{1}}{2} & & &  \\\\\n",
    "a_{2}-\\frac{h b_{2}}{2} & h^{2} c_{2}-2 a_{2} & a_{2}+\\frac{h b_{2}}{2} & &\\\\\n",
    "& \\ddots & \\ddots & \\ddots & \\\\\n",
    "& & a_{n-1}-\\frac{h b_{n-1}}{2} & h^{2} c_{n-1}-2 a_{n-1} & a_{n-1}+\\frac{h b_{n-1}}{2} \\\\\n",
    "& & & a_{n}-\\frac{h b_{n}}{2} & h^{2} c_{n}-2 a_{n}\n",
    "\\end{array}\\right)\n",
    "$$"
   ]
  },
  {
   "cell_type": "code",
   "execution_count": 1,
   "id": "06b6725c",
   "metadata": {},
   "outputs": [],
   "source": [
    "import numpy as np\n",
    "from scipy.sparse import spdiags\n",
    "from scipy.linalg import solve\n",
    "import matplotlib.pyplot as plt"
   ]
  },
  {
   "cell_type": "code",
   "execution_count": 2,
   "id": "1aa81a7e",
   "metadata": {},
   "outputs": [],
   "source": [
    "#Initialize\n",
    "x = np.linspace(0,1,100)\n",
    "uLeft = 0\n",
    "uRight = 0\n",
    "\n",
    "def a_coef(x):\n",
    "    return x**2 + 1\n",
    "def b_coef(x):\n",
    "    return 2*x\n",
    "def c_coef(x):\n",
    "    return  0*x\n",
    "def f_source(x):\n",
    "    return np.cos(x)\n",
    "\n",
    "dx = x[1]-x[0]\n",
    "nx = len(x)"
   ]
  },
  {
   "cell_type": "code",
   "execution_count": 3,
   "id": "d4d8a368",
   "metadata": {},
   "outputs": [
    {
     "name": "stdout",
     "output_type": "stream",
     "text": [
      "The system is solvable: True\n"
     ]
    }
   ],
   "source": [
    "#Create diagonal matrix\n",
    "ac = a_coef(x)\n",
    "bc = b_coef(x)\n",
    "cc = c_coef(x)\n",
    "aMat = spdiags([np.roll((ac + dx*bc/2) * 1/dx**2,1),\n",
    "                (dx**2 * cc - 2* ac) * 1/dx**2,\n",
    "                np.roll((ac - dx*bc/2) * 1/dx**2, -1)],[1,0,-1],nx,nx)\n",
    "\n",
    "fs = f_source(x) \n",
    "rhs = np.hstack((fs[0] - (ac[0]/dx**2 - bc[0]/(2*dx)) * uLeft,\n",
    "                fs[1:-1],\n",
    "                fs[-1] - (ac[-1]/dx**2 - bc[-1]/(2*dx)) * uRight))\n",
    "\n",
    "\n",
    "u = 0*x\n",
    "print(\"The system is solvable:\", np.linalg.matrix_rank(aMat.toarray()) == len(u))\n",
    "u = np.linalg.solve(aMat.toarray(), rhs)"
   ]
  },
  {
   "cell_type": "code",
   "execution_count": 4,
   "id": "84bfac1d",
   "metadata": {},
   "outputs": [
    {
     "data": {
      "image/png": "[encoded data removed]",
      "text/plain": [
       "<Figure size 432x288 with 1 Axes>"
      ]
     },
     "metadata": {
      "needs_background": "light"
     },
     "output_type": "display_data"
    }
   ],
   "source": [
    "plt.plot(x, u)\n",
    "plt.show()"
   ]
  },
  {
   "cell_type": "code",
   "execution_count": null,
   "id": "20b08b55",
   "metadata": {},
   "outputs": [],
   "source": []
  }
 ],
 "metadata": {
  "kernelspec": {
   "display_name": "Python 3 (ipykernel)",
   "language": "python",
   "name": "python3"
  },
  "language_info": {
   "codemirror_mode": {
    "name": "ipython",
    "version": 3
   },
   "file_extension": ".py",
   "mimetype": "text/x-python",
   "name": "python",
   "nbconvert_exporter": "python",
   "pygments_lexer": "ipython3",
   "version": "3.9.7"
  }
 },
 "nbformat": 4,
 "nbformat_minor": 5
}
