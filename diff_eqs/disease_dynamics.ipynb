{
 "cells": [
  {
   "cell_type": "markdown",
   "id": "ab43aa31",
   "metadata": {},
   "source": [
    "## A simple model for disease dynamics"
   ]
  },
  {
   "cell_type": "markdown",
   "id": "1cf419ee",
   "metadata": {},
   "source": [
    "Let $I$ be the number of infected people and k the rate of the infection then\n",
    "$$\n",
    "\\frac{d I}{d t}=- k I\n",
    "$$\n",
    "Then the cost of the epidemic whould be\n",
    "$$\n",
    "C \\int_{0}^{\\infty} I(t) d t+ M I(0)\n",
    "$$\n",
    "where $C$ is the cost per person and $M$ is the cost of the medicine. We assume that no extra medicine are being purchaced during the epidemic."
   ]
  },
  {
   "cell_type": "code",
   "execution_count": 3,
   "id": "7f2b2d96",
   "metadata": {},
   "outputs": [],
   "source": [
    "import sympy as sym"
   ]
  },
  {
   "cell_type": "code",
   "execution_count": 73,
   "id": "69338b8e",
   "metadata": {},
   "outputs": [],
   "source": [
    "class Disease:\n",
    "    def __init__(self, per_person_cost):\n",
    "        #Initialize symbolic variables\n",
    "        self.per_person_cost = per_person_cost\n",
    "        self.t = sym.Symbol(\"t\")\n",
    "        self.k = sym.Symbol(\"k\")\n",
    "        self.I_0 = sym.Symbol(\"I_0\")\n",
    "        self.I = sym.Function(\"I\")\n",
    "    \n",
    "    def get_equation(self, k=None):\n",
    "        if k is None:\n",
    "            k = self.k\n",
    "        return sym.Eq(sym.Derivative(self.I(self.t), self.t), - k * self.I(self.t))\n",
    "    def get_solution(self,I_0=None, k=None):\n",
    "        if k is None:\n",
    "            k = self.k\n",
    "        if I_0 is None:\n",
    "            I_0 = self.I_0\n",
    "        eq = self.get_equation(k=k)\n",
    "        return sym.dsolve(eq, self.I(self.t), ics={self.I(0): I_0})\n",
    "    def get_cost(self,I_0=None,k=None, cure_cost=0):\n",
    "        \n",
    "        if k is None:\n",
    "            k = self.k\n",
    "        if I_0 is None:\n",
    "            I_0 = self.I_0\n",
    "\n",
    "        I_sol = self.get_solution(I_0=I_0, k=k)\n",
    "        area = sym.integrate(I_sol.rhs, (self.t, 0, sym.oo))\n",
    "        productivity_cost = area * self.per_person_cost\n",
    "        total_cost_of_cure = cure_cost * I_0\n",
    "        return productivity_cost + total_cost_of_cure\n",
    "\n"
   ]
  },
  {
   "cell_type": "code",
   "execution_count": 74,
   "id": "15c28ce2",
   "metadata": {},
   "outputs": [],
   "source": [
    "corona = Disease(per_person_cost=10)"
   ]
  },
  {
   "cell_type": "code",
   "execution_count": 75,
   "id": "ccc3a14c",
   "metadata": {},
   "outputs": [
    {
     "data": {
      "text/latex": [
       "$\\displaystyle \\frac{d}{d t} I{\\left(t \\right)} = - k I{\\left(t \\right)}$"
      ],
      "text/plain": [
       "Eq(Derivative(I(t), t), -k*I(t))"
      ]
     },
     "execution_count": 75,
     "metadata": {},
     "output_type": "execute_result"
    }
   ],
   "source": [
    "corona.get_equation()"
   ]
  },
  {
   "cell_type": "code",
   "execution_count": 76,
   "id": "bc3243cc",
   "metadata": {},
   "outputs": [
    {
     "data": {
      "text/latex": [
       "$\\displaystyle \\frac{d}{d t} I{\\left(t \\right)} = - 0.1 I{\\left(t \\right)}$"
      ],
      "text/plain": [
       "Eq(Derivative(I(t), t), -0.1*I(t))"
      ]
     },
     "execution_count": 76,
     "metadata": {},
     "output_type": "execute_result"
    }
   ],
   "source": [
    "corona.get_equation(k=0.1)"
   ]
  },
  {
   "cell_type": "code",
   "execution_count": 77,
   "id": "f4799c59",
   "metadata": {},
   "outputs": [
    {
     "data": {
      "text/latex": [
       "$\\displaystyle I{\\left(t \\right)} = I_{0} e^{- k t}$"
      ],
      "text/plain": [
       "Eq(I(t), I_0*exp(-k*t))"
      ]
     },
     "execution_count": 77,
     "metadata": {},
     "output_type": "execute_result"
    }
   ],
   "source": [
    "corona.get_solution()"
   ]
  },
  {
   "cell_type": "code",
   "execution_count": 78,
   "id": "4d52f86f",
   "metadata": {},
   "outputs": [
    {
     "data": {
      "text/latex": [
       "$\\displaystyle I{\\left(t \\right)} = 100 e^{- 0.1 t}$"
      ],
      "text/plain": [
       "Eq(I(t), 100*exp(-0.1*t))"
      ]
     },
     "execution_count": 78,
     "metadata": {},
     "output_type": "execute_result"
    }
   ],
   "source": [
    "corona.get_solution(I_0=100,k=0.1)"
   ]
  },
  {
   "cell_type": "code",
   "execution_count": 81,
   "id": "49338bae",
   "metadata": {},
   "outputs": [
    {
     "name": "stdout",
     "output_type": "stream",
     "text": [
      "cost without cure: 10000.0000000000 cost without cure: 10500.0000000000\n"
     ]
    }
   ],
   "source": [
    "print('cost without cure:' ,corona.get_cost(I_0=100, k=0.1),\n",
    "     'cost without cure:' ,corona.get_cost(I_0=100, k=0.1, cure_cost=5))"
   ]
  },
  {
   "cell_type": "code",
   "execution_count": null,
   "id": "8b5edef4",
   "metadata": {},
   "outputs": [],
   "source": []
  }
 ],
 "metadata": {
  "kernelspec": {
   "display_name": "Python 3 (ipykernel)",
   "language": "python",
   "name": "python3"
  },
  "language_info": {
   "codemirror_mode": {
    "name": "ipython",
    "version": 3
   },
   "file_extension": ".py",
   "mimetype": "text/x-python",
   "name": "python",
   "nbconvert_exporter": "python",
   "pygments_lexer": "ipython3",
   "version": "3.9.7"
  }
 },
 "nbformat": 4,
 "nbformat_minor": 5
}
