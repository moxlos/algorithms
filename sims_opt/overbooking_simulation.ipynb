{
 "cells": [
  {
   "cell_type": "markdown",
   "id": "8f4d3764",
   "metadata": {},
   "source": [
    "An overbooking simulation model"
   ]
  },
  {
   "cell_type": "code",
   "execution_count": 4,
   "id": "04e2c20b",
   "metadata": {},
   "outputs": [],
   "source": [
    "import pandas as pd\n",
    "import numpy as np\n",
    "import matplotlib.pyplot as plt\n",
    "\n",
    "#What-if analysis for overbooking\n",
    "overbookData = pd.read_excel('data/OverbookingData.xlsx')\n",
    "\n",
    "#Constants\n",
    "CAPACITY = 134\n",
    "TICKETPRICE = 314\n",
    "TRANSFERFEE = 60 #No shows pay for another flight\n",
    "BUMPEDCOST = 400\n"
   ]
  },
  {
   "cell_type": "code",
   "execution_count": 5,
   "id": "ba77cd1c",
   "metadata": {},
   "outputs": [],
   "source": [
    "def whatIfSimul(capacity, ticketPrice, \n",
    "                transferFee, bumpedCost,\n",
    "                overbookData,\n",
    "                simulSize = 10000):\n",
    "    \n",
    "    averageDemand  = int(overbookData['Demand'].mean())\n",
    "    \n",
    "    showUpRate  = round(overbookData['Rate'].mean(), 2)\n",
    "    \n",
    "    overbookingLim = 13 #This parameter can be optimized wrt the net revenue\n",
    "    \n",
    "    actualDemand = np.random.poisson(lam = averageDemand, size=simulSize) #The demand follows a poison distribution Use timeseries to\n",
    "    #TODO: uncover seasonality effects\n",
    "    \n",
    "    bookingCapacity = capacity + overbookingLim\n",
    "    \n",
    "    booked  = np.array([min(x, bookingCapacity) for x in actualDemand])\n",
    "    \n",
    "    readyToBoard = np.array([np.random.binomial(n= x, p= showUpRate) for x in booked])\n",
    "    \n",
    "    noShows =booked - readyToBoard\n",
    "    \n",
    "    boardingTheFlight = np.array([min(x, capacity) for x in readyToBoard])\n",
    "    \n",
    "    bumpedPassengers = readyToBoard - boardingTheFlight\n",
    "    \n",
    "    ticketRevenue = booked * ticketPrice\n",
    "    \n",
    "    noShowRevenue = transferFee * noShows\n",
    "    \n",
    "    overbookingCost = bumpedCost * bumpedPassengers\n",
    "    \n",
    "    netRevenue = (ticketRevenue + noShowRevenue) - overbookingCost\n",
    "    \n",
    "    \n",
    "    summarySimul = pd.DataFrame({'stats' : ['mean','std','min','max',\n",
    "                         'median'],\n",
    "                 'NetRev' : [netRevenue.mean(),netRevenue.std(),\n",
    "                             netRevenue.min(), netRevenue.max(),\n",
    "                             np.median(netRevenue)],\n",
    "                 'BumpPass' : [bumpedPassengers.mean(),\n",
    "                               bumpedPassengers.std(),\n",
    "                               bumpedPassengers.min(),\n",
    "                               bumpedPassengers.max(),\n",
    "                               np.median(bumpedPassengers)]})\n",
    "        \n",
    "    bumpedPassengersTable =  np.unique(bumpedPassengers, return_counts=True)\n",
    "    \n",
    "    \n",
    "    fig = plt.figure(figsize=(12, 5))\n",
    "    ax = fig.add_subplot(121)\n",
    "    \n",
    "\n",
    "    plt.bar(bumpedPassengersTable[0], bumpedPassengersTable[1])\n",
    "    plt.xlabel('Bumped passengers')\n",
    "    plt.ylabel('Frequency')\n",
    "    \n",
    "    ax = plt.subplot(122)\n",
    "    plt.hist(netRevenue)\n",
    "    plt.xlabel('Revenue')\n",
    "    plt.ylabel('Frequency')\n",
    "    \n",
    "    return({'summaryStats': summarySimul,\n",
    "             'bumbedPass': bumpedPassengers,\n",
    "             'netRevenue': netRevenue})\n",
    "\n",
    "\n",
    "\n",
    "\n"
   ]
  },
  {
   "cell_type": "code",
   "execution_count": 7,
   "id": "efc3861c",
   "metadata": {},
   "outputs": [
    {
     "data": {
      "image/png": "[encoded data removed]",
      "text/plain": [
       "<Figure size 864x360 with 2 Axes>"
      ]
     },
     "metadata": {
      "needs_background": "light"
     },
     "output_type": "display_data"
    }
   ],
   "source": [
    "_, bumpedPassengers, netRevenue = whatIfSimul(CAPACITY, TICKETPRICE, \n",
    "                                                TRANSFERFEE, BUMPEDCOST,\n",
    "                                                overbookData,\n",
    "                                                simulSize = 10000).values()\n"
   ]
  },
  {
   "cell_type": "code",
   "execution_count": 9,
   "id": "813fdacc",
   "metadata": {},
   "outputs": [
    {
     "name": "stdout",
     "output_type": "stream",
     "text": [
      "Revenue Probability at least 42000. :  0.9324\n",
      "Bumped passengers at least 2. prob.: 0.2425\n"
     ]
    }
   ],
   "source": [
    "#Calculate probabilities\n",
    "\n",
    "lowerThresRevenue = 42000\n",
    "\n",
    "print(f'Revenue Probability at least {lowerThresRevenue}. : ',\n",
    "      sum(netRevenue > lowerThresRevenue) / len(netRevenue))\n",
    "\n",
    "lowerThresBumped = 2\n",
    "\n",
    "print(f'Bumped passengers at least {lowerThresBumped}. prob.:',\n",
    "      sum(bumpedPassengers > lowerThresBumped) / len(bumpedPassengers))\n"
   ]
  },
  {
   "cell_type": "code",
   "execution_count": null,
   "id": "f7574ecb",
   "metadata": {},
   "outputs": [],
   "source": []
  }
 ],
 "metadata": {
  "kernelspec": {
   "display_name": "Python 3 (ipykernel)",
   "language": "python",
   "name": "python3"
  },
  "language_info": {
   "codemirror_mode": {
    "name": "ipython",
    "version": 3
   },
   "file_extension": ".py",
   "mimetype": "text/x-python",
   "name": "python",
   "nbconvert_exporter": "python",
   "pygments_lexer": "ipython3",
   "version": "3.9.7"
  }
 },
 "nbformat": 4,
 "nbformat_minor": 5
}
