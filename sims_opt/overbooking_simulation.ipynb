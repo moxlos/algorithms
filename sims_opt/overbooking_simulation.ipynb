{
 "cells": [
  {
   "cell_type": "markdown",
   "id": "8f4d3764",
   "metadata": {},
   "source": [
    "An overbooking simulation model\n",
    "\n",
    "Uncertainty: \n",
    "   - Demand for seats\n",
    "   - Number of passengers that show up\n",
    "\n",
    "\n",
    "Assumption: The demand follows a poisson distribution with average estimated by historical data"
   ]
  },
  {
   "cell_type": "code",
   "execution_count": 14,
   "id": "04e2c20b",
   "metadata": {},
   "outputs": [],
   "source": [
    "import pandas as pd\n",
    "import numpy as np\n",
    "import matplotlib.pyplot as plt\n",
    "\n",
    "#What-if analysis for overbooking\n",
    "overbookData = pd.read_excel('data/OverbookingData.xlsx')\n",
    "\n",
    "#Constants\n",
    "CAPACITY = 134\n",
    "TICKETPRICE = 314\n",
    "TRANSFERFEE = 60 #No shows pay for another flight\n",
    "BUMPEDCOST = 400\n"
   ]
  },
  {
   "cell_type": "code",
   "execution_count": 15,
   "id": "b9927129",
   "metadata": {},
   "outputs": [],
   "source": [
    "def fit_predict_demand(overbookData,\n",
    "                      simulSize=10000):\n",
    "    averageDemand  = int(overbookData['Demand'].mean())\n",
    "    \n",
    "    showUpRate  = round(overbookData['Rate'].mean(), 2)\n",
    "        \n",
    "    predictedDemand = np.random.poisson(lam = averageDemand, size=simulSize) #The demand follows a poison distribution Use timeseries to\n",
    "    #TODO: uncover seasonality effects\n",
    "    return(showUpRate,\n",
    "           predictedDemand)"
   ]
  },
  {
   "cell_type": "code",
   "execution_count": 21,
   "id": "1f47b781",
   "metadata": {},
   "outputs": [],
   "source": [
    "def calculate_cost(showUpRate,predictedDemand,\n",
    "                   overbookingLim =13): #This parameter can be optimized \n",
    "    \n",
    "    bookingCapacity = CAPACITY + overbookingLim\n",
    "    \n",
    "    booked  = np.array([min(x, bookingCapacity) for x in predictedDemand])\n",
    "    \n",
    "    readyToBoard = np.array([np.random.binomial(n= x, p= showUpRate) for x in booked])\n",
    "    \n",
    "    noShows =booked - readyToBoard\n",
    "    \n",
    "    boardingTheFlight = np.array([min(x, CAPACITY) for x in readyToBoard])\n",
    "    \n",
    "    bumpedPassengers = readyToBoard - boardingTheFlight\n",
    "    \n",
    "    ticketRevenue = booked * TICKETPRICE\n",
    "    \n",
    "    noShowRevenue = TRANSFERFEE * noShows\n",
    "    \n",
    "    overbookingCost = BUMPEDCOST * bumpedPassengers\n",
    "    \n",
    "    netRevenue = (ticketRevenue + noShowRevenue) - overbookingCost\n",
    "    \n",
    "    return(netRevenue,\n",
    "          bumpedPassengers)"
   ]
  },
  {
   "cell_type": "code",
   "execution_count": 22,
   "id": "63c39d7c",
   "metadata": {},
   "outputs": [],
   "source": [
    "def get_summary(netRevenue,\n",
    "          bumpedPassengers):\n",
    "    \n",
    "    summarySimul = pd.DataFrame({'stats' : ['mean','std','min','max',\n",
    "                         'median'],\n",
    "                 'NetRev' : [netRevenue.mean(),netRevenue.std(),\n",
    "                             netRevenue.min(), netRevenue.max(),\n",
    "                             np.median(netRevenue)],\n",
    "                 'BumpPass' : [bumpedPassengers.mean(),\n",
    "                               bumpedPassengers.std(),\n",
    "                               bumpedPassengers.min(),\n",
    "                               bumpedPassengers.max(),\n",
    "                               np.median(bumpedPassengers)]})\n",
    "    return(summarySimul)"
   ]
  },
  {
   "cell_type": "code",
   "execution_count": 23,
   "id": "ee1b55cd",
   "metadata": {},
   "outputs": [],
   "source": [
    "def plot_distributions(bumpedPassengers,netRevenue):\n",
    "    bumpedPassengersTable =  np.unique(bumpedPassengers, return_counts=True)\n",
    "    \n",
    "    \n",
    "    fig = plt.figure(figsize=(12, 5))\n",
    "    ax = fig.add_subplot(121)\n",
    "    \n",
    "\n",
    "    plt.bar(bumpedPassengersTable[0], bumpedPassengersTable[1])\n",
    "    plt.xlabel('Bumped passengers')\n",
    "    plt.ylabel('Frequency')\n",
    "    \n",
    "    ax = plt.subplot(122)\n",
    "    plt.hist(netRevenue)\n",
    "    plt.xlabel('Revenue')\n",
    "    plt.ylabel('Frequency')"
   ]
  },
  {
   "cell_type": "code",
   "execution_count": 24,
   "id": "2fdfecaa",
   "metadata": {},
   "outputs": [
    {
     "data": {
      "image/png": "[encoded data removed]",
      "text/plain": [
       "<Figure size 864x360 with 2 Axes>"
      ]
     },
     "metadata": {
      "needs_background": "light"
     },
     "output_type": "display_data"
    }
   ],
   "source": [
    "showUpRate, predictedDemand = fit_predict_demand(overbookData)\n",
    "\n",
    "netRevenue,bumpedPassengers = calculate_cost(showUpRate,predictedDemand)\n",
    "\n",
    "plot_distributions(bumpedPassengers,netRevenue)"
   ]
  },
  {
   "cell_type": "code",
   "execution_count": 25,
   "id": "74fa468b",
   "metadata": {},
   "outputs": [
    {
     "data": {
      "text/html": [
       "<div>\n",
       "<style scoped>\n",
       "    .dataframe tbody tr th:only-of-type {\n",
       "        vertical-align: middle;\n",
       "    }\n",
       "\n",
       "    .dataframe tbody tr th {\n",
       "        vertical-align: top;\n",
       "    }\n",
       "\n",
       "    .dataframe thead th {\n",
       "        text-align: right;\n",
       "    }\n",
       "</style>\n",
       "<table border=\"1\" class=\"dataframe\">\n",
       "  <thead>\n",
       "    <tr style=\"text-align: right;\">\n",
       "      <th></th>\n",
       "      <th>stats</th>\n",
       "      <th>NetRev</th>\n",
       "      <th>BumpPass</th>\n",
       "    </tr>\n",
       "  </thead>\n",
       "  <tbody>\n",
       "    <tr>\n",
       "      <th>0</th>\n",
       "      <td>mean</td>\n",
       "      <td>45210.541000</td>\n",
       "      <td>1.378400</td>\n",
       "    </tr>\n",
       "    <tr>\n",
       "      <th>1</th>\n",
       "      <td>std</td>\n",
       "      <td>1822.736532</td>\n",
       "      <td>2.065094</td>\n",
       "    </tr>\n",
       "    <tr>\n",
       "      <th>2</th>\n",
       "      <td>min</td>\n",
       "      <td>34332.000000</td>\n",
       "      <td>0.000000</td>\n",
       "    </tr>\n",
       "    <tr>\n",
       "      <th>3</th>\n",
       "      <td>max</td>\n",
       "      <td>47598.000000</td>\n",
       "      <td>11.000000</td>\n",
       "    </tr>\n",
       "    <tr>\n",
       "      <th>4</th>\n",
       "      <td>median</td>\n",
       "      <td>45558.000000</td>\n",
       "      <td>0.000000</td>\n",
       "    </tr>\n",
       "  </tbody>\n",
       "</table>\n",
       "</div>"
      ],
      "text/plain": [
       "    stats        NetRev   BumpPass\n",
       "0    mean  45210.541000   1.378400\n",
       "1     std   1822.736532   2.065094\n",
       "2     min  34332.000000   0.000000\n",
       "3     max  47598.000000  11.000000\n",
       "4  median  45558.000000   0.000000"
      ]
     },
     "execution_count": 25,
     "metadata": {},
     "output_type": "execute_result"
    }
   ],
   "source": [
    "get_summary(netRevenue,\n",
    "          bumpedPassengers)"
   ]
  },
  {
   "cell_type": "code",
   "execution_count": 7,
   "id": "efc3861c",
   "metadata": {},
   "outputs": [
    {
     "data": {
      "image/png": "[encoded data removed]",
      "text/plain": [
       "<Figure size 864x360 with 2 Axes>"
      ]
     },
     "metadata": {
      "needs_background": "light"
     },
     "output_type": "display_data"
    }
   ],
   "source": [
    "_, bumpedPassengers, netRevenue = whatIfSimul(CAPACITY, TICKETPRICE, \n",
    "                                                TRANSFERFEE, BUMPEDCOST,\n",
    "                                                overbookData,\n",
    "                                                simulSize = 10000).values()\n"
   ]
  },
  {
   "cell_type": "code",
   "execution_count": 9,
   "id": "813fdacc",
   "metadata": {},
   "outputs": [
    {
     "name": "stdout",
     "output_type": "stream",
     "text": [
      "Revenue Probability at least 42000. :  0.9324\n",
      "Bumped passengers at least 2. prob.: 0.2425\n"
     ]
    }
   ],
   "source": [
    "#Calculate probabilities\n",
    "\n",
    "lowerThresRevenue = 42000\n",
    "\n",
    "print(f'Revenue Probability at least {lowerThresRevenue}. : ',\n",
    "      sum(netRevenue > lowerThresRevenue) / len(netRevenue))\n",
    "\n",
    "lowerThresBumped = 2\n",
    "\n",
    "print(f'Bumped passengers at least {lowerThresBumped}. prob.:',\n",
    "      sum(bumpedPassengers > lowerThresBumped) / len(bumpedPassengers))\n"
   ]
  },
  {
   "cell_type": "code",
   "execution_count": null,
   "id": "f7574ecb",
   "metadata": {},
   "outputs": [],
   "source": []
  }
 ],
 "metadata": {
  "kernelspec": {
   "display_name": "Python 3 (ipykernel)",
   "language": "python",
   "name": "python3"
  },
  "language_info": {
   "codemirror_mode": {
    "name": "ipython",
    "version": 3
   },
   "file_extension": ".py",
   "mimetype": "text/x-python",
   "name": "python",
   "nbconvert_exporter": "python",
   "pygments_lexer": "ipython3",
   "version": "3.9.12"
  }
 },
 "nbformat": 4,
 "nbformat_minor": 5
}
