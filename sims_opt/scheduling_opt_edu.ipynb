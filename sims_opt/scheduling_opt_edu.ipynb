{
 "cells": [
  {
   "cell_type": "markdown",
   "id": "4e4755a4",
   "metadata": {},
   "source": [
    "# Scheduling with clashes"
   ]
  },
  {
   "cell_type": "markdown",
   "id": "14ec4faa",
   "metadata": {},
   "source": [
    "Model by [**Vince Knight**](http://vknight.org/).\n",
    "\n",
    "A university runs 14 modules over three subjects: Art, Biology and Chemistry. Each\n",
    "subject runs core modules and optional modules. \n",
    "\n",
    "The university is required to schedule examinations for each of these modules.\n",
    "The university would like the exams to be scheduled using the least amount of time\n",
    "slots. However not all modules can be scheduled at the same time as they share some\n",
    "students.\n",
    "\n",
    "Variables: $X_{mt}$ if module $m$ is assigned to day $t$ and the auxiliary variable $Y_t$ if the time slot $t$ is used (we want to minimize to days of the exams). Then we can write the model as:\n",
    "\n",
    "\\begin{align}\n",
    "\\text{Minimise: } \\sum_{t \\in T} Y_j & \\label{eqn:objective_modules} \\\\\n",
    "\\text{Subject to: } & \\nonumber \\\\\n",
    "\\frac{1}{|M|} \\sum_{m \\in M} X_{mt} &\\leq Y_j \\text{ for all } j \\in T \\label{eqn:auxiliary} \\\\\n",
    "\\sum_{t \\in T} X_{mt} &= 1 \\text{ for all } m \\in M \\label{eqn:schedule_all_modules} \\\\\n",
    "\\sum_{m \\in A_c \\cup A_o} X_{mt} &\\leq 1 \\text{ for all } t \\in T \\label{eqn:clique1} \\\\\n",
    "\\sum_{m \\in B_c \\cup B_o \\cup A_c} X_{mt} &\\leq 1 \\text{ for all } t \\in T \\label{eqn:clique2} \\\\\n",
    "\\sum_{m \\in B_c \\cup B_o \\cup C_o} X_{mt} &\\leq 1 \\text{ for all } t \\in T \\label{eqn:clique3} \\\\\n",
    "\\sum_{m \\in B_o \\cup C_c \\cup C_o} X_{mt} &\\leq 1 \\text{ for all } t \\in T \\label{eqn:clique4}\n",
    "\\end{align}"
   ]
  },
  {
   "cell_type": "code",
   "execution_count": 1,
   "id": "b823f60c",
   "metadata": {},
   "outputs": [
    {
     "name": "stderr",
     "output_type": "stream",
     "text": [
      "ROI: R Optimization Infrastructure\n",
      "Registered solver plugins: nlminb, lpsolve.\n",
      "Default solver: auto.\n"
     ]
    }
   ],
   "source": [
    "library(ROI)\n",
    "library(data.table)"
   ]
  },
  {
   "cell_type": "code",
   "execution_count": 2,
   "id": "fe3467ec",
   "metadata": {},
   "outputs": [],
   "source": [
    "#Input\n",
    "#Modules and time range\n",
    "mVar = 14\n",
    "tVar = 14\n",
    "# Modules and their Clashes\n",
    "Ac <- c(0, 1)\n",
    "Ao <- c(2, 3, 4)\n",
    "Bc <- c(5, 6)\n",
    "Bo <- c(7, 8)\n",
    "Cc <- c(9, 10)\n",
    "Co <- c(11, 12, 13)\n",
    "list_clashes <- list(\n",
    "  c(Ac, Ao),\n",
    "  c(Bc, Bo, Co),\n",
    "  c(Bc, Bo, Ac),\n",
    "  c(Bo, Cc, Co)\n",
    ")\n",
    "\n",
    "#TODO: Add demand restrinctions"
   ]
  },
  {
   "cell_type": "code",
   "execution_count": 3,
   "id": "9d8399bd",
   "metadata": {},
   "outputs": [],
   "source": [
    "#Build variables and objective\n",
    "write_objective = function(mVar, tVar){\n",
    "  varX_col_idx = 1:(mVar*tVar)\n",
    "  varY_col_idx = ((mVar*tVar)+1):(tVar)\n",
    "  obj = c(rep(0, mVar*tVar), rep(1, tVar))\n",
    "  return(list(varX_col_idx,\n",
    "              varY_col_idx,\n",
    "              obj))\n",
    "}"
   ]
  },
  {
   "cell_type": "code",
   "execution_count": 4,
   "id": "76c4b09b",
   "metadata": {},
   "outputs": [],
   "source": [
    "#A function to return the flatened index of the variable\n",
    "flat_idx = function(m,t,mVar, tVar){\n",
    "    #m fast\n",
    "    #t slow\n",
    "    return(mVar*(t-1) + m)\n",
    "}"
   ]
  },
  {
   "cell_type": "code",
   "execution_count": 5,
   "id": "aa5f45a8",
   "metadata": {},
   "outputs": [],
   "source": [
    "#Build Contraints\n",
    "#The clash contraints (the last 4)\n",
    "\n",
    "write_X_clashes = function(m_idx, t_idx, mVar, tVar){\n",
    "    \n",
    "    row_idx = rep(0,mVar*tVar + tVar) #the coefficient of all the variables\n",
    "    clashes = flat_idx(m_idx,t_idx, mVar, tVar)\n",
    "    row_idx[clashes] = 1\n",
    "    return(row_idx)\n",
    "    \n",
    "}\n",
    "\n",
    "\n",
    "\n",
    "#Each module is scheduled in one day only (3rd constraint)\n",
    "write_X_requirements = function(m_idx, mVar, tVar){\n",
    "   \n",
    "    row_idx = rep(0,mVar*tVar + tVar) #the coefficient of all the variables\n",
    "    row_idx[flat_idx(m_idx, 1:tVar, mVar, tVar)] = 1\n",
    "    return(row_idx)\n",
    "}\n",
    "\n",
    "write_Y_requirements = function(t_idx, tVar, mVar){\n",
    "   \n",
    "    row_idx = rep(0,mVar*tVar + tVar) #the coefficient of all the variables\n",
    "    row_idx[flat_idx(1:mVar, t_idx, mVar, tVar)] = 1 #coefficients of X\n",
    "    row_idx[mVar*tVar + t_idx] = -mVar #coefficients of Y\n",
    "    return(row_idx)\n",
    "}\n"
   ]
  },
  {
   "cell_type": "code",
   "execution_count": 6,
   "id": "d71bca32",
   "metadata": {},
   "outputs": [],
   "source": [
    "write_constraints = function(list_clashes, mVar, tVar){\n",
    "  \n",
    "  all_rows <- c()\n",
    "  all_dirs <- c()\n",
    "  all_rhss <- c()\n",
    "  n_rows <- 0\n",
    "  \n",
    "  #clashes contraints\n",
    "  print(\"Writing Clash constraints ...\")\n",
    "  for (clash in list_clashes){\n",
    "    for (t in 1:tVar){\n",
    "      clashes <- write_X_clashes(clash, t, mVar, tVar)\n",
    "      all_rows <- append(all_rows, clashes)\n",
    "      all_dirs <- append(all_dirs, \"<=\")\n",
    "      all_rhss <- append(all_rhss, 1)\n",
    "      n_rows <- n_rows + 1\n",
    "    }\n",
    "  }\n",
    "  print(\"Writing X requirements ...\")\n",
    "  #Write X requirements\n",
    "  for (m in 1:mVar){\n",
    "    reqs <- write_X_requirements(m, mVar, tVar)\n",
    "    all_rows <- append(all_rows, reqs)\n",
    "    all_dirs <- append(all_dirs, \"==\")\n",
    "    all_rhss <- append(all_rhss, 1)\n",
    "    n_rows <- n_rows + 1\n",
    "  }\n",
    "  \n",
    "  print(\"Writing Y requirements ...\")\n",
    "  #Write Y requirements\n",
    "  for (t_idx in 1:tVar){\n",
    "    yConstraints <- write_Y_requirements(t_idx, mVar, tVar)\n",
    "    all_rows <- append(all_rows, yConstraints)\n",
    "    all_dirs <- append(all_dirs, \"<=\")\n",
    "    all_rhss <- append(all_rhss, 0)\n",
    "    n_rows <- n_rows + 1\n",
    "  }\n",
    "  \n",
    "  f.con <- matrix(all_rows, nrow = n_rows, byrow = TRUE)\n",
    "  f.dir <- all_dirs\n",
    "  f.rhs <- all_rhss\n",
    "  return(list(f.con, f.dir, f.rhs))\n",
    "  \n",
    "}\n"
   ]
  },
  {
   "cell_type": "code",
   "execution_count": 7,
   "id": "199e2c3b",
   "metadata": {},
   "outputs": [
    {
     "name": "stdout",
     "output_type": "stream",
     "text": [
      "[1] \"Writing Clash constraints ...\"\n",
      "[1] \"Writing X requirements ...\"\n",
      "[1] \"Writing Y requirements ...\"\n"
     ]
    }
   ],
   "source": [
    "constraints <- write_constraints(\n",
    "  list_clashes = list_clashes,\n",
    "  mVar = mVar,\n",
    "  tVar = tVar\n",
    ")\n",
    "f.con <- constraints[[1]]\n",
    "f.dir <- constraints[[2]]\n",
    "f.rhs <- constraints[[3]]\n",
    "f.obj <- write_objective(mVar, tVar)[[3]]"
   ]
  },
  {
   "cell_type": "code",
   "execution_count": 8,
   "id": "991a1797",
   "metadata": {},
   "outputs": [
    {
     "name": "stdout",
     "output_type": "stream",
     "text": [
      "  [1] 0 1 0 0 0 1 0 0 1 0 0 0 0 0 0 0 0 0 1 0 0 0 0 1 0 0 0 0 0 0 1 0 0 0 1 0 0\n",
      " [38] 0 0 0 0 0 1 0 0 0 0 0 0 0 0 0 0 1 0 0 0 0 0 0 0 0 0 1 0 0 0 0 0 0 0 0 0 0\n",
      " [75] 0 0 0 0 0 0 0 0 0 0 0 0 0 1 0 0 0 0 0 0 0 0 1 1 0 0 0 0 0 0 0 0 0 0 0 0 0\n",
      "[112] 0 0 0 0 0 0 0 0 0 0 0 0 0 0 0 0 0 0 0 0 0 0 0 0 0 0 0 0 0 0 0 0 0 0 0 0 0\n",
      "[149] 0 0 0 0 0 0 0 0 0 0 0 0 0 0 0 0 0 0 0 0 0 0 0 0 0 0 0 0 0 0 1 0 0 0 0 0 0\n",
      "[186] 0 0 0 0 0 0 0 0 0 0 0 1 1 1 1 1 0 1 0 0 0 0 0 1 0\n"
     ]
    }
   ],
   "source": [
    "#Solve\n",
    "milp <- OP(\n",
    "  objective = L_objective(f.obj),\n",
    "  constraints = L_constraint(L = f.con, dir = f.dir, rhs = f.rhs),\n",
    "  types = rep(\"B\", length(f.obj)), #All binary\n",
    "  maximum = FALSE\n",
    ")\n",
    "sol <- ROI_solve(milp)\n",
    "print(sol$solution)"
   ]
  },
  {
   "cell_type": "code",
   "execution_count": 9,
   "id": "2c22e4aa",
   "metadata": {},
   "outputs": [],
   "source": [
    "varX_col_idx = write_objective(mVar, tVar)[[1]]\n",
    "varX = sol$solution[varX_col_idx]\n",
    "\n",
    "get_schedule = function(sol, mVar, tVar){\n",
    "    \n",
    "    schedule = data.table(t(array(varX, dim=c(tVar, mVar))))\n",
    "    colnames(schedule) = paste0('module_', 1:mVar)\n",
    "    rownames(schedule) = paste0('day_', 1:tVar)\n",
    "    \n",
    "    return(schedule)\n",
    "}\n",
    "\n",
    "\n",
    "#A pretty function\n",
    "get_schedule_2 <- function(sol, n_days, n_modules){\n",
    "  schedule = \"\"\n",
    "  for (day in 1:n_days){\n",
    "    if (sol$solution[(n_days * n_modules) + day] == 1){\n",
    "      schedule <- paste(schedule, \"\\n\", \"Day\", day, \":\")\n",
    "      for (module in 1:n_modules){\n",
    "        var <- ((day - 1) * n_modules) + module\n",
    "        if (sol$solution[var] == 1){\n",
    "          schedule <- paste(schedule, module)\n",
    "        }\n",
    "      }\n",
    "    }\n",
    "  }\n",
    "  schedule\n",
    "}\n"
   ]
  },
  {
   "cell_type": "markdown",
   "id": "9bc5596b",
   "metadata": {},
   "source": [
    "## The optimal schedule (multiple solutions might exist)"
   ]
  },
  {
   "cell_type": "code",
   "execution_count": 10,
   "id": "c7c4e595",
   "metadata": {},
   "outputs": [
    {
     "data": {
      "text/html": [
       "<table>\n",
       "<thead><tr><th></th><th scope=col>module_1</th><th scope=col>module_2</th><th scope=col>module_3</th><th scope=col>module_4</th><th scope=col>module_5</th><th scope=col>module_6</th><th scope=col>module_7</th><th scope=col>module_8</th><th scope=col>module_9</th><th scope=col>module_10</th><th scope=col>module_11</th><th scope=col>module_12</th><th scope=col>module_13</th><th scope=col>module_14</th></tr></thead>\n",
       "<tbody>\n",
       "\t<tr><th scope=row>day_1</th><td>0</td><td>1</td><td>0</td><td>0</td><td>0</td><td>1</td><td>0</td><td>0</td><td>1</td><td>0</td><td>0</td><td>0</td><td>0</td><td>0</td></tr>\n",
       "\t<tr><th scope=row>day_2</th><td>0</td><td>0</td><td>0</td><td>0</td><td>1</td><td>0</td><td>0</td><td>0</td><td>0</td><td>1</td><td>0</td><td>0</td><td>0</td><td>0</td></tr>\n",
       "\t<tr><th scope=row>day_3</th><td>0</td><td>0</td><td>1</td><td>0</td><td>0</td><td>0</td><td>1</td><td>0</td><td>0</td><td>0</td><td>0</td><td>0</td><td>0</td><td>0</td></tr>\n",
       "\t<tr><th scope=row>day_4</th><td>1</td><td>0</td><td>0</td><td>0</td><td>0</td><td>0</td><td>0</td><td>0</td><td>0</td><td>0</td><td>0</td><td>1</td><td>0</td><td>0</td></tr>\n",
       "\t<tr><th scope=row>day_5</th><td>0</td><td>0</td><td>0</td><td>0</td><td>0</td><td>0</td><td>0</td><td>1</td><td>0</td><td>0</td><td>0</td><td>0</td><td>0</td><td>0</td></tr>\n",
       "\t<tr><th scope=row>day_6</th><td>0</td><td>0</td><td>0</td><td>0</td><td>0</td><td>0</td><td>0</td><td>0</td><td>0</td><td>0</td><td>0</td><td>0</td><td>0</td><td>0</td></tr>\n",
       "\t<tr><th scope=row>day_7</th><td>0</td><td>0</td><td>0</td><td>1</td><td>0</td><td>0</td><td>0</td><td>0</td><td>0</td><td>0</td><td>0</td><td>0</td><td>1</td><td>1</td></tr>\n",
       "\t<tr><th scope=row>day_8</th><td>0</td><td>0</td><td>0</td><td>0</td><td>0</td><td>0</td><td>0</td><td>0</td><td>0</td><td>0</td><td>0</td><td>0</td><td>0</td><td>0</td></tr>\n",
       "\t<tr><th scope=row>day_9</th><td>0</td><td>0</td><td>0</td><td>0</td><td>0</td><td>0</td><td>0</td><td>0</td><td>0</td><td>0</td><td>0</td><td>0</td><td>0</td><td>0</td></tr>\n",
       "\t<tr><th scope=row>day_10</th><td>0</td><td>0</td><td>0</td><td>0</td><td>0</td><td>0</td><td>0</td><td>0</td><td>0</td><td>0</td><td>0</td><td>0</td><td>0</td><td>0</td></tr>\n",
       "\t<tr><th scope=row>day_11</th><td>0</td><td>0</td><td>0</td><td>0</td><td>0</td><td>0</td><td>0</td><td>0</td><td>0</td><td>0</td><td>0</td><td>0</td><td>0</td><td>0</td></tr>\n",
       "\t<tr><th scope=row>day_12</th><td>0</td><td>0</td><td>0</td><td>0</td><td>0</td><td>0</td><td>0</td><td>0</td><td>0</td><td>0</td><td>0</td><td>0</td><td>0</td><td>0</td></tr>\n",
       "\t<tr><th scope=row>day_13</th><td>0</td><td>0</td><td>0</td><td>0</td><td>0</td><td>0</td><td>0</td><td>0</td><td>0</td><td>0</td><td>1</td><td>0</td><td>0</td><td>0</td></tr>\n",
       "\t<tr><th scope=row>day_14</th><td>0</td><td>0</td><td>0</td><td>0</td><td>0</td><td>0</td><td>0</td><td>0</td><td>0</td><td>0</td><td>0</td><td>0</td><td>0</td><td>0</td></tr>\n",
       "</tbody>\n",
       "</table>\n"
      ],
      "text/latex": [
       "\\begin{tabular}{r|llllllllllllll}\n",
       "  & module\\_1 & module\\_2 & module\\_3 & module\\_4 & module\\_5 & module\\_6 & module\\_7 & module\\_8 & module\\_9 & module\\_10 & module\\_11 & module\\_12 & module\\_13 & module\\_14\\\\\n",
       "\\hline\n",
       "\tday\\_1 & 0 & 1 & 0 & 0 & 0 & 1 & 0 & 0 & 1 & 0 & 0 & 0 & 0 & 0\\\\\n",
       "\tday\\_2 & 0 & 0 & 0 & 0 & 1 & 0 & 0 & 0 & 0 & 1 & 0 & 0 & 0 & 0\\\\\n",
       "\tday\\_3 & 0 & 0 & 1 & 0 & 0 & 0 & 1 & 0 & 0 & 0 & 0 & 0 & 0 & 0\\\\\n",
       "\tday\\_4 & 1 & 0 & 0 & 0 & 0 & 0 & 0 & 0 & 0 & 0 & 0 & 1 & 0 & 0\\\\\n",
       "\tday\\_5 & 0 & 0 & 0 & 0 & 0 & 0 & 0 & 1 & 0 & 0 & 0 & 0 & 0 & 0\\\\\n",
       "\tday\\_6 & 0 & 0 & 0 & 0 & 0 & 0 & 0 & 0 & 0 & 0 & 0 & 0 & 0 & 0\\\\\n",
       "\tday\\_7 & 0 & 0 & 0 & 1 & 0 & 0 & 0 & 0 & 0 & 0 & 0 & 0 & 1 & 1\\\\\n",
       "\tday\\_8 & 0 & 0 & 0 & 0 & 0 & 0 & 0 & 0 & 0 & 0 & 0 & 0 & 0 & 0\\\\\n",
       "\tday\\_9 & 0 & 0 & 0 & 0 & 0 & 0 & 0 & 0 & 0 & 0 & 0 & 0 & 0 & 0\\\\\n",
       "\tday\\_10 & 0 & 0 & 0 & 0 & 0 & 0 & 0 & 0 & 0 & 0 & 0 & 0 & 0 & 0\\\\\n",
       "\tday\\_11 & 0 & 0 & 0 & 0 & 0 & 0 & 0 & 0 & 0 & 0 & 0 & 0 & 0 & 0\\\\\n",
       "\tday\\_12 & 0 & 0 & 0 & 0 & 0 & 0 & 0 & 0 & 0 & 0 & 0 & 0 & 0 & 0\\\\\n",
       "\tday\\_13 & 0 & 0 & 0 & 0 & 0 & 0 & 0 & 0 & 0 & 0 & 1 & 0 & 0 & 0\\\\\n",
       "\tday\\_14 & 0 & 0 & 0 & 0 & 0 & 0 & 0 & 0 & 0 & 0 & 0 & 0 & 0 & 0\\\\\n",
       "\\end{tabular}\n"
      ],
      "text/markdown": [
       "\n",
       "| <!--/--> | module_1 | module_2 | module_3 | module_4 | module_5 | module_6 | module_7 | module_8 | module_9 | module_10 | module_11 | module_12 | module_13 | module_14 |\n",
       "|---|---|---|---|---|---|---|---|---|---|---|---|---|---|---|\n",
       "| day_1 | 0 | 1 | 0 | 0 | 0 | 1 | 0 | 0 | 1 | 0 | 0 | 0 | 0 | 0 |\n",
       "| day_2 | 0 | 0 | 0 | 0 | 1 | 0 | 0 | 0 | 0 | 1 | 0 | 0 | 0 | 0 |\n",
       "| day_3 | 0 | 0 | 1 | 0 | 0 | 0 | 1 | 0 | 0 | 0 | 0 | 0 | 0 | 0 |\n",
       "| day_4 | 1 | 0 | 0 | 0 | 0 | 0 | 0 | 0 | 0 | 0 | 0 | 1 | 0 | 0 |\n",
       "| day_5 | 0 | 0 | 0 | 0 | 0 | 0 | 0 | 1 | 0 | 0 | 0 | 0 | 0 | 0 |\n",
       "| day_6 | 0 | 0 | 0 | 0 | 0 | 0 | 0 | 0 | 0 | 0 | 0 | 0 | 0 | 0 |\n",
       "| day_7 | 0 | 0 | 0 | 1 | 0 | 0 | 0 | 0 | 0 | 0 | 0 | 0 | 1 | 1 |\n",
       "| day_8 | 0 | 0 | 0 | 0 | 0 | 0 | 0 | 0 | 0 | 0 | 0 | 0 | 0 | 0 |\n",
       "| day_9 | 0 | 0 | 0 | 0 | 0 | 0 | 0 | 0 | 0 | 0 | 0 | 0 | 0 | 0 |\n",
       "| day_10 | 0 | 0 | 0 | 0 | 0 | 0 | 0 | 0 | 0 | 0 | 0 | 0 | 0 | 0 |\n",
       "| day_11 | 0 | 0 | 0 | 0 | 0 | 0 | 0 | 0 | 0 | 0 | 0 | 0 | 0 | 0 |\n",
       "| day_12 | 0 | 0 | 0 | 0 | 0 | 0 | 0 | 0 | 0 | 0 | 0 | 0 | 0 | 0 |\n",
       "| day_13 | 0 | 0 | 0 | 0 | 0 | 0 | 0 | 0 | 0 | 0 | 1 | 0 | 0 | 0 |\n",
       "| day_14 | 0 | 0 | 0 | 0 | 0 | 0 | 0 | 0 | 0 | 0 | 0 | 0 | 0 | 0 |\n",
       "\n"
      ],
      "text/plain": [
       "   module_1 module_2 module_3 module_4 module_5 module_6 module_7 module_8\n",
       "1  0        1        0        0        0        1        0        0       \n",
       "2  0        0        0        0        1        0        0        0       \n",
       "3  0        0        1        0        0        0        1        0       \n",
       "4  1        0        0        0        0        0        0        0       \n",
       "5  0        0        0        0        0        0        0        1       \n",
       "6  0        0        0        0        0        0        0        0       \n",
       "7  0        0        0        1        0        0        0        0       \n",
       "8  0        0        0        0        0        0        0        0       \n",
       "9  0        0        0        0        0        0        0        0       \n",
       "10 0        0        0        0        0        0        0        0       \n",
       "11 0        0        0        0        0        0        0        0       \n",
       "12 0        0        0        0        0        0        0        0       \n",
       "13 0        0        0        0        0        0        0        0       \n",
       "14 0        0        0        0        0        0        0        0       \n",
       "   module_9 module_10 module_11 module_12 module_13 module_14\n",
       "1  1        0         0         0         0         0        \n",
       "2  0        1         0         0         0         0        \n",
       "3  0        0         0         0         0         0        \n",
       "4  0        0         0         1         0         0        \n",
       "5  0        0         0         0         0         0        \n",
       "6  0        0         0         0         0         0        \n",
       "7  0        0         0         0         1         1        \n",
       "8  0        0         0         0         0         0        \n",
       "9  0        0         0         0         0         0        \n",
       "10 0        0         0         0         0         0        \n",
       "11 0        0         0         0         0         0        \n",
       "12 0        0         0         0         0         0        \n",
       "13 0        0         1         0         0         0        \n",
       "14 0        0         0         0         0         0        "
      ]
     },
     "metadata": {},
     "output_type": "display_data"
    }
   ],
   "source": [
    "get_schedule(sol, mVar, tVar)"
   ]
  },
  {
   "cell_type": "code",
   "execution_count": 11,
   "id": "b2eb1fd0",
   "metadata": {},
   "outputs": [
    {
     "name": "stdout",
     "output_type": "stream",
     "text": [
      " \n",
      " Day 1 : 2 6 9 \n",
      " Day 2 : 5 10 \n",
      " Day 3 : 3 7 \n",
      " Day 4 : 1 12 \n",
      " Day 5 : 8 \n",
      " Day 7 : 4 13 14 \n",
      " Day 13 : 11"
     ]
    }
   ],
   "source": [
    "cat(get_schedule_2(sol = sol, n_days = tVar, n_modules = mVar))"
   ]
  },
  {
   "cell_type": "code",
   "execution_count": null,
   "id": "61e600d4",
   "metadata": {},
   "outputs": [],
   "source": []
  }
 ],
 "metadata": {
  "kernelspec": {
   "display_name": "R",
   "language": "R",
   "name": "ir"
  },
  "language_info": {
   "codemirror_mode": "r",
   "file_extension": ".r",
   "mimetype": "text/x-r-source",
   "name": "R",
   "pygments_lexer": "r",
   "version": "3.6.1"
  }
 },
 "nbformat": 4,
 "nbformat_minor": 5
}
