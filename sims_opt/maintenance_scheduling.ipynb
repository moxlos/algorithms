{
 "cells": [
  {
   "cell_type": "markdown",
   "id": "9de0d78e",
   "metadata": {},
   "source": [
    "# Optimization with chance constraints"
   ]
  },
  {
   "cell_type": "markdown",
   "id": "8c80f476",
   "metadata": {},
   "source": [
    "A model to calculate the optimal number of workers in an 8-hour shift. The workers change shifts either at the beginning of the shift or at the middle, so that at every given shift workers from the current shift and the previous shift are present. We know the mean value of the required number of workers, but this requirement is stochastic. We suppose that it follows a Poisson distribution. For example if a certain 4 hour window requires 9 workers, then"
   ]
  },
  {
   "cell_type": "code",
   "execution_count": 1,
   "id": "51123f08",
   "metadata": {},
   "outputs": [
    {
     "name": "stdout",
     "output_type": "stream",
     "text": [
      "95% of the time the required workers will be less than 14 and more than 4"
     ]
    }
   ],
   "source": [
    "cat('95% of the time the required workers will be less than', qpois(0.95,9),\n",
    "    'and more than', qpois(0.95,9,lower.tail = F))"
   ]
  },
  {
   "cell_type": "markdown",
   "id": "1b41ecd4",
   "metadata": {},
   "source": [
    "Requirements:\n",
    "   - Staff is required 24 hours a day\n",
    "   - Employees work 8-hour shifts\n",
    "   - Employee shift starts every 4 hours"
   ]
  },
  {
   "cell_type": "markdown",
   "id": "9799fcaf",
   "metadata": {},
   "source": [
    "Assume that we have the following mean rates and we set the constraint so that 60% of the time they will be satisfied, that is the **VaR** or **value at risk** of the problem.\n",
    "The model:\n",
    "\n",
    "Variables: $X_i$, $i=1:6$, the number of workers\n",
    "\n",
    "Constraints:\n",
    "AvailStaff $(X_i) >=$ VaR(RequiredStaff;ChanceCtr), $i=1:6$\n",
    "\n",
    "Objective:\n",
    "$\\text{Minimise: } ( sum_i X_i)$"
   ]
  },
  {
   "cell_type": "code",
   "execution_count": 2,
   "id": "6ac82560",
   "metadata": {},
   "outputs": [],
   "source": [
    "options(warn=-1)\n",
    "mean_rates = c(9,22,25,17,30,13)\n",
    "CHANCECTR = 0.6 #60% of the times the requirements will be satisfied. The higher the bigger the value."
   ]
  },
  {
   "cell_type": "code",
   "execution_count": 3,
   "id": "797bc044",
   "metadata": {},
   "outputs": [
    {
     "name": "stderr",
     "output_type": "stream",
     "text": [
      "\n",
      "Attaching package: ‘lubridate’\n",
      "\n",
      "The following objects are masked from ‘package:data.table’:\n",
      "\n",
      "    hour, isoweek, mday, minute, month, quarter, second, wday, week,\n",
      "    yday, year\n",
      "\n",
      "The following objects are masked from ‘package:base’:\n",
      "\n",
      "    date, intersect, setdiff, union\n",
      "\n"
     ]
    },
    {
     "data": {
      "text/html": [
       "<table>\n",
       "<thead><tr><th scope=col>val</th><th scope=col>dt_start</th><th scope=col>dt_end</th><th scope=col>effective_rate_ctr</th><th scope=col>mean_rates</th><th scope=col>conf_95_lower</th><th scope=col>conf_95_uper</th></tr></thead>\n",
       "<tbody>\n",
       "\t<tr><td>1    </td><td>0:00 </td><td>4:00 </td><td>10   </td><td> 9   </td><td>14   </td><td> 4   </td></tr>\n",
       "\t<tr><td>2    </td><td>4:00 </td><td>8:00 </td><td>23   </td><td>22   </td><td>30   </td><td>15   </td></tr>\n",
       "\t<tr><td>3    </td><td>8:00 </td><td>12:00</td><td>26   </td><td>25   </td><td>33   </td><td>17   </td></tr>\n",
       "\t<tr><td>4    </td><td>12:00</td><td>16:00</td><td>18   </td><td>17   </td><td>24   </td><td>11   </td></tr>\n",
       "\t<tr><td>5    </td><td>16:00</td><td>20:00</td><td>31   </td><td>30   </td><td>39   </td><td>21   </td></tr>\n",
       "\t<tr><td>6    </td><td>20:00</td><td>24:00</td><td>14   </td><td>13   </td><td>19   </td><td> 7   </td></tr>\n",
       "</tbody>\n",
       "</table>\n"
      ],
      "text/latex": [
       "\\begin{tabular}{r|lllllll}\n",
       " val & dt\\_start & dt\\_end & effective\\_rate\\_ctr & mean\\_rates & conf\\_95\\_lower & conf\\_95\\_uper\\\\\n",
       "\\hline\n",
       "\t 1     & 0:00  & 4:00  & 10    &  9    & 14    &  4   \\\\\n",
       "\t 2     & 4:00  & 8:00  & 23    & 22    & 30    & 15   \\\\\n",
       "\t 3     & 8:00  & 12:00 & 26    & 25    & 33    & 17   \\\\\n",
       "\t 4     & 12:00 & 16:00 & 18    & 17    & 24    & 11   \\\\\n",
       "\t 5     & 16:00 & 20:00 & 31    & 30    & 39    & 21   \\\\\n",
       "\t 6     & 20:00 & 24:00 & 14    & 13    & 19    &  7   \\\\\n",
       "\\end{tabular}\n"
      ],
      "text/markdown": [
       "\n",
       "| val | dt_start | dt_end | effective_rate_ctr | mean_rates | conf_95_lower | conf_95_uper |\n",
       "|---|---|---|---|---|---|---|\n",
       "| 1     | 0:00  | 4:00  | 10    |  9    | 14    |  4    |\n",
       "| 2     | 4:00  | 8:00  | 23    | 22    | 30    | 15    |\n",
       "| 3     | 8:00  | 12:00 | 26    | 25    | 33    | 17    |\n",
       "| 4     | 12:00 | 16:00 | 18    | 17    | 24    | 11    |\n",
       "| 5     | 16:00 | 20:00 | 31    | 30    | 39    | 21    |\n",
       "| 6     | 20:00 | 24:00 | 14    | 13    | 19    |  7    |\n",
       "\n"
      ],
      "text/plain": [
       "  val dt_start dt_end effective_rate_ctr mean_rates conf_95_lower conf_95_uper\n",
       "1 1   0:00     4:00   10                  9         14             4          \n",
       "2 2   4:00     8:00   23                 22         30            15          \n",
       "3 3   8:00     12:00  26                 25         33            17          \n",
       "4 4   12:00    16:00  18                 17         24            11          \n",
       "5 5   16:00    20:00  31                 30         39            21          \n",
       "6 6   20:00    24:00  14                 13         19             7          "
      ]
     },
     "metadata": {},
     "output_type": "display_data"
    }
   ],
   "source": [
    "library(data.table)\n",
    "library(lpSolveAPI)\n",
    "library(lubridate)\n",
    "library(stringr)\n",
    "\n",
    "DF = data.frame(val = 1:6,\n",
    "                dt_start = paste0(as.character(seq(0,20,by=4)),':','00')  ,\n",
    "                dt_end = paste0(as.character(seq(4,24,by=4)),':','00') ,\n",
    "                effective_rate_ctr = sapply(mean_rates, function(x) qpois(CHANCECTR,x)),\n",
    "                mean_rates = mean_rates,\n",
    "                conf_95_lower = sapply(mean_rates, function(x) qpois(0.95,x)),\n",
    "                conf_95_uper = sapply(mean_rates, function(x) qpois(0.95,x, lower.tail=F)),\n",
    "                stringsAsFactors = FALSE)\n",
    "\n",
    "DF"
   ]
  },
  {
   "cell_type": "code",
   "execution_count": 4,
   "id": "93e24b19",
   "metadata": {},
   "outputs": [],
   "source": [
    "#Initialize model and build objective\n",
    "tVar = length(mean_rates)\n",
    "lprec = make.lp(tVar,tVar)\n",
    "#Build variables\n",
    "write_objective = function(nVar){\n",
    "  VarX_col_idx = 1:nVar\n",
    "  obj = rep(1,nVar)\n",
    "  return(list(VarX_col_idx,\n",
    "              obj))\n",
    "}\n",
    "\n",
    "#At each 4-hour the workers of the current and previous shift are present\n",
    "avail_staff = function(X,i,n){\n",
    "  ifelse(i>1,X[i] + X[i-1],X[1] + X[n])\n",
    "}\n"
   ]
  },
  {
   "cell_type": "code",
   "execution_count": 5,
   "id": "5eb4afd4",
   "metadata": {},
   "outputs": [],
   "source": [
    "\n",
    "write_X_requirements = function(t_idx,tVar){\n",
    "  \n",
    "  row_idx = rep(0,tVar) #the coefficient of all the variables\n",
    "  if(t_idx>1){\n",
    "    row_idx[c(t_idx, t_idx-1)] = -1\n",
    "  }else{\n",
    "    row_idx[c(t_idx, tVar)] = -1  \n",
    "  }\n",
    "  return(row_idx)\n",
    "  \n",
    "}\n",
    "\n",
    "write_constraints = function(model, mean_rates,tVar){\n",
    "  \n",
    "  all_rows = c()\n",
    "  all_dirs = c()\n",
    "  all_rhss = c()\n",
    "  n_rows = 0\n",
    "  \n",
    "  #VaR contraints\n",
    "  print(\"Writing value at risk constraints ...\")\n",
    "  for (t_idx in 1:tVar){\n",
    "    var_risk = write_X_requirements(t_idx, tVar)\n",
    "    all_rows = append(all_rows, var_risk)\n",
    "    all_dirs = append(all_dirs, \"<=\")\n",
    "    all_rhss = append(all_rhss, -qpois(CHANCECTR,mean_rates[t_idx]))\n",
    "    n_rows = n_rows + 1\n",
    "    set.row(model,n_rows,var_risk)\n",
    "  }\n",
    "\n",
    "f.con = matrix(all_rows, nrow = n_rows, byrow = TRUE)\n",
    "f.dir = all_dirs\n",
    "f.rhs = all_rhss\n",
    "return(list(f.con, f.dir, f.rhs))\n",
    "\n",
    "}\n"
   ]
  },
  {
   "cell_type": "code",
   "execution_count": 6,
   "id": "044f7914",
   "metadata": {},
   "outputs": [
    {
     "name": "stdout",
     "output_type": "stream",
     "text": [
      "[1] \"Writing value at risk constraints ...\"\n"
     ]
    }
   ],
   "source": [
    "\n",
    "constraints = write_constraints(lprec,mean_rates,tVar)\n",
    "f.con = constraints[[1]]\n",
    "f.dir = constraints[[2]]\n",
    "f.rhs = constraints[[3]]\n",
    "f.obj = write_objective(tVar)[[2]]\n",
    "f.x_idx = write_objective(tVar)[[1]]\n"
   ]
  },
  {
   "cell_type": "code",
   "execution_count": 7,
   "id": "f34bd81d",
   "metadata": {},
   "outputs": [
    {
     "name": "stdout",
     "output_type": "stream",
     "text": [
      "Solution status:  0 \n",
      " minimum:  67 \n",
      " 10 25 1 17 14 0"
     ]
    }
   ],
   "source": [
    "#solve\n",
    "set.constr.value(lprec,\n",
    "                 lhs = rep(NA, tVar),\n",
    "                 rhs = f.rhs,\n",
    "                 1:tVar)\n",
    "\n",
    "set.objfn(lprec, f.obj)\n",
    "set.type(lprec,columns = f.x_idx, type = c(\"integer\"))\n",
    "solStatusCode =  solve.lpExtPtr(lprec)\n",
    "sols = get.variables(lprec)\n",
    "minimum = get.objective(lprec)\n",
    "\n",
    "cat(\"Solution status: \",solStatusCode, \"\\n\", \"minimum: \", minimum, \"\\n\", sols)\n"
   ]
  },
  {
   "cell_type": "markdown",
   "id": "f3fa7d57",
   "metadata": {},
   "source": [
    "Calculate the available staff (from the two shifts) and the chances that the day will require no more workers than the solution"
   ]
  },
  {
   "cell_type": "code",
   "execution_count": 8,
   "id": "3635b9f2",
   "metadata": {},
   "outputs": [
    {
     "data": {
      "text/html": [
       "<table>\n",
       "<thead><tr><th scope=col>val</th><th scope=col>dt_start</th><th scope=col>dt_end</th><th scope=col>effective_rate_ctr</th><th scope=col>mean_rates</th><th scope=col>conf_95_lower</th><th scope=col>conf_95_uper</th><th scope=col>solution</th><th scope=col>available_staff</th><th scope=col>chances</th></tr></thead>\n",
       "<tbody>\n",
       "\t<tr><td>1        </td><td>0:00     </td><td>4:00     </td><td>10       </td><td> 9       </td><td>14       </td><td> 4       </td><td>10       </td><td>10       </td><td>0.7059883</td></tr>\n",
       "\t<tr><td>2        </td><td>4:00     </td><td>8:00     </td><td>23       </td><td>22       </td><td>30       </td><td>15       </td><td>25       </td><td>35       </td><td>0.9962450</td></tr>\n",
       "\t<tr><td>3        </td><td>8:00     </td><td>12:00    </td><td>26       </td><td>25       </td><td>33       </td><td>17       </td><td> 1       </td><td>26       </td><td>0.6293858</td></tr>\n",
       "\t<tr><td>4        </td><td>12:00    </td><td>16:00    </td><td>18       </td><td>17       </td><td>24       </td><td>11       </td><td>17       </td><td>18       </td><td>0.6549584</td></tr>\n",
       "\t<tr><td>5        </td><td>16:00    </td><td>20:00    </td><td>31       </td><td>30       </td><td>39       </td><td>21       </td><td>14       </td><td>31       </td><td>0.6186430</td></tr>\n",
       "\t<tr><td>6        </td><td>20:00    </td><td>24:00    </td><td>14       </td><td>13       </td><td>19       </td><td> 7       </td><td> 0       </td><td>14       </td><td>0.6751315</td></tr>\n",
       "</tbody>\n",
       "</table>\n"
      ],
      "text/latex": [
       "\\begin{tabular}{r|llllllllll}\n",
       " val & dt\\_start & dt\\_end & effective\\_rate\\_ctr & mean\\_rates & conf\\_95\\_lower & conf\\_95\\_uper & solution & available\\_staff & chances\\\\\n",
       "\\hline\n",
       "\t 1         & 0:00      & 4:00      & 10        &  9        & 14        &  4        & 10        & 10        & 0.7059883\\\\\n",
       "\t 2         & 4:00      & 8:00      & 23        & 22        & 30        & 15        & 25        & 35        & 0.9962450\\\\\n",
       "\t 3         & 8:00      & 12:00     & 26        & 25        & 33        & 17        &  1        & 26        & 0.6293858\\\\\n",
       "\t 4         & 12:00     & 16:00     & 18        & 17        & 24        & 11        & 17        & 18        & 0.6549584\\\\\n",
       "\t 5         & 16:00     & 20:00     & 31        & 30        & 39        & 21        & 14        & 31        & 0.6186430\\\\\n",
       "\t 6         & 20:00     & 24:00     & 14        & 13        & 19        &  7        &  0        & 14        & 0.6751315\\\\\n",
       "\\end{tabular}\n"
      ],
      "text/markdown": [
       "\n",
       "| val | dt_start | dt_end | effective_rate_ctr | mean_rates | conf_95_lower | conf_95_uper | solution | available_staff | chances |\n",
       "|---|---|---|---|---|---|---|---|---|---|\n",
       "| 1         | 0:00      | 4:00      | 10        |  9        | 14        |  4        | 10        | 10        | 0.7059883 |\n",
       "| 2         | 4:00      | 8:00      | 23        | 22        | 30        | 15        | 25        | 35        | 0.9962450 |\n",
       "| 3         | 8:00      | 12:00     | 26        | 25        | 33        | 17        |  1        | 26        | 0.6293858 |\n",
       "| 4         | 12:00     | 16:00     | 18        | 17        | 24        | 11        | 17        | 18        | 0.6549584 |\n",
       "| 5         | 16:00     | 20:00     | 31        | 30        | 39        | 21        | 14        | 31        | 0.6186430 |\n",
       "| 6         | 20:00     | 24:00     | 14        | 13        | 19        |  7        |  0        | 14        | 0.6751315 |\n",
       "\n"
      ],
      "text/plain": [
       "  val dt_start dt_end effective_rate_ctr mean_rates conf_95_lower conf_95_uper\n",
       "1 1   0:00     4:00   10                  9         14             4          \n",
       "2 2   4:00     8:00   23                 22         30            15          \n",
       "3 3   8:00     12:00  26                 25         33            17          \n",
       "4 4   12:00    16:00  18                 17         24            11          \n",
       "5 5   16:00    20:00  31                 30         39            21          \n",
       "6 6   20:00    24:00  14                 13         19             7          \n",
       "  solution available_staff chances  \n",
       "1 10       10              0.7059883\n",
       "2 25       35              0.9962450\n",
       "3  1       26              0.6293858\n",
       "4 17       18              0.6549584\n",
       "5 14       31              0.6186430\n",
       "6  0       14              0.6751315"
      ]
     },
     "metadata": {},
     "output_type": "display_data"
    }
   ],
   "source": [
    "available_staff = sapply(1:length(mean_rates),\n",
    "                         function(x) avail_staff(sols, x, length(mean_rates)) )\n",
    "\n",
    "chances = sapply(1:length(mean_rates), function(x) ppois(available_staff[x],\n",
    "                                           mean_rates[x]))\n",
    "\n",
    "DF$solution = sols\n",
    "DF$available_staff= available_staff\n",
    "DF$chances = chances\n",
    "\n",
    "\n",
    "DF"
   ]
  },
  {
   "cell_type": "code",
   "execution_count": null,
   "id": "845e85dd",
   "metadata": {},
   "outputs": [],
   "source": []
  }
 ],
 "metadata": {
  "kernelspec": {
   "display_name": "R",
   "language": "R",
   "name": "ir"
  },
  "language_info": {
   "codemirror_mode": "r",
   "file_extension": ".r",
   "mimetype": "text/x-r-source",
   "name": "R",
   "pygments_lexer": "r",
   "version": "3.6.1"
  }
 },
 "nbformat": 4,
 "nbformat_minor": 5
}
