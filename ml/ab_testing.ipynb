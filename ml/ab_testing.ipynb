{
 "cells": [
  {
   "cell_type": "markdown",
   "id": "f0f611b3",
   "metadata": {},
   "source": [
    "# AB testing\n",
    "\n",
    "Parameters:\n",
    "\n",
    "- $P_A$ : True click through rate for group A\n",
    "- $P_B$ : True click through rate for group B\n",
    "- $N_A$ : Number of cases for group A\n",
    "- $N_B$ : Number of cases for group B"
   ]
  },
  {
   "cell_type": "code",
   "execution_count": 1,
   "id": "a8afd76d",
   "metadata": {},
   "outputs": [
    {
     "name": "stderr",
     "output_type": "stream",
     "text": [
      "\n",
      "Attaching package: ‘lubridate’\n",
      "\n",
      "The following objects are masked from ‘package:data.table’:\n",
      "\n",
      "    hour, isoweek, mday, minute, month, quarter, second, wday, week,\n",
      "    yday, year\n",
      "\n",
      "The following objects are masked from ‘package:base’:\n",
      "\n",
      "    date, intersect, setdiff, union\n",
      "\n",
      "Registered S3 methods overwritten by 'ggplot2':\n",
      "  method         from \n",
      "  [.quosures     rlang\n",
      "  c.quosures     rlang\n",
      "  print.quosures rlang\n"
     ]
    }
   ],
   "source": [
    "library(data.table)\n",
    "library(lubridate)\n",
    "library(ggplot2)\n",
    "options(run.main=FALSE)\n",
    "source(\"ab.R\")"
   ]
  },
  {
   "cell_type": "code",
   "execution_count": 2,
   "id": "7e1116bd",
   "metadata": {},
   "outputs": [],
   "source": [
    "# Choose parameters:\n",
    "pA <- 0.06 # True click through rate for group A\n",
    "pB <- 0.06 # True click through rate for group B\n",
    "nA <- 500 # Number of cases for group A\n",
    "nB <- 500 # Number of cases for group B"
   ]
  },
  {
   "cell_type": "markdown",
   "id": "75572cbc",
   "metadata": {},
   "source": [
    "### Simulate data"
   ]
  },
  {
   "cell_type": "code",
   "execution_count": 3,
   "id": "05838cdf",
   "metadata": {},
   "outputs": [],
   "source": [
    "sim_df = function(pA,pB,nA,nB){\n",
    "  \n",
    "    set.seed(47849)\n",
    "    data <- data.table(group = rep(c(\"A\", \"B\"), c(nA, nB)),\n",
    "                       timestamp = sample(seq(as_datetime('2016-06-02'),\n",
    "                                              as_datetime('2016-06-09'), by = 1), nA+nB),\n",
    "                       clickedTrue = as.factor(c(rbinom(n = nA, size = 1, prob = pA),\n",
    "                                                 rbinom(n = nB, size = 1, prob = pB))))\n",
    "\n",
    "\n",
    "\n",
    "    # Order data by timestamp\n",
    "    setorder(data, timestamp)\n",
    "    levels(data$clickedTrue) <- c(\"0\", \"1\")\n",
    "    return(data)\n",
    "}\n"
   ]
  },
  {
   "cell_type": "code",
   "execution_count": 4,
   "id": "f7db2ac2",
   "metadata": {},
   "outputs": [
    {
     "data": {
      "text/html": [
       "<table>\n",
       "<thead><tr><th scope=col>group</th><th scope=col>timestamp</th><th scope=col>clickedTrue</th></tr></thead>\n",
       "<tbody>\n",
       "\t<tr><td>A                  </td><td>2016-06-02 00:05:53</td><td>0                  </td></tr>\n",
       "\t<tr><td>B                  </td><td>2016-06-02 00:19:26</td><td>0                  </td></tr>\n",
       "\t<tr><td>A                  </td><td>2016-06-02 00:24:21</td><td>0                  </td></tr>\n",
       "\t<tr><td>A                  </td><td>2016-06-02 00:25:13</td><td>1                  </td></tr>\n",
       "\t<tr><td>B                  </td><td>2016-06-02 00:48:31</td><td>0                  </td></tr>\n",
       "\t<tr><td>A                  </td><td>2016-06-02 00:54:26</td><td>0                  </td></tr>\n",
       "</tbody>\n",
       "</table>\n"
      ],
      "text/latex": [
       "\\begin{tabular}{r|lll}\n",
       " group & timestamp & clickedTrue\\\\\n",
       "\\hline\n",
       "\t A                   & 2016-06-02 00:05:53 & 0                  \\\\\n",
       "\t B                   & 2016-06-02 00:19:26 & 0                  \\\\\n",
       "\t A                   & 2016-06-02 00:24:21 & 0                  \\\\\n",
       "\t A                   & 2016-06-02 00:25:13 & 1                  \\\\\n",
       "\t B                   & 2016-06-02 00:48:31 & 0                  \\\\\n",
       "\t A                   & 2016-06-02 00:54:26 & 0                  \\\\\n",
       "\\end{tabular}\n"
      ],
      "text/markdown": [
       "\n",
       "| group | timestamp | clickedTrue |\n",
       "|---|---|---|\n",
       "| A                   | 2016-06-02 00:05:53 | 0                   |\n",
       "| B                   | 2016-06-02 00:19:26 | 0                   |\n",
       "| A                   | 2016-06-02 00:24:21 | 0                   |\n",
       "| A                   | 2016-06-02 00:25:13 | 1                   |\n",
       "| B                   | 2016-06-02 00:48:31 | 0                   |\n",
       "| A                   | 2016-06-02 00:54:26 | 0                   |\n",
       "\n"
      ],
      "text/plain": [
       "  group timestamp           clickedTrue\n",
       "1 A     2016-06-02 00:05:53 0          \n",
       "2 B     2016-06-02 00:19:26 0          \n",
       "3 A     2016-06-02 00:24:21 0          \n",
       "4 A     2016-06-02 00:25:13 1          \n",
       "5 B     2016-06-02 00:48:31 0          \n",
       "6 A     2016-06-02 00:54:26 0          "
      ]
     },
     "metadata": {},
     "output_type": "display_data"
    }
   ],
   "source": [
    "df = sim_df(pA,pB,nA,nB)\n",
    "head(df)"
   ]
  },
  {
   "cell_type": "code",
   "execution_count": 5,
   "id": "8d5d4745",
   "metadata": {},
   "outputs": [
    {
     "name": "stdout",
     "output_type": "stream",
     "text": [
      "% difference  0 \n",
      "significance  0.6849628"
     ]
    },
    {
     "data": {
      "image/png": "[encoded data removed]",
      "text/plain": [
       "Plot with title “AB”"
      ]
     },
     "metadata": {},
     "output_type": "display_data"
    }
   ],
   "source": [
    "ab <- ABTestDyn$new(df)\n",
    "  \n",
    "ab$plot_mos()\n",
    "cat('% difference ',ab$prc_diff(),'\\n')\n",
    "\n",
    "cat('significance ', ab$p_value(min(df$timestamp),\n",
    "                              '2016-06-07'))"
   ]
  },
  {
   "cell_type": "code",
   "execution_count": 6,
   "id": "3f2eda40",
   "metadata": {},
   "outputs": [
    {
     "name": "stderr",
     "output_type": "stream",
     "text": [
      "Warning message in prop.test(table(df[timestamp >= from_dt & timestamp <= to_dt, :\n",
      "“Chi-squared approximation may be incorrect”"
     ]
    },
    {
     "name": "stdout",
     "output_type": "stream",
     "text": [
      "significance  1"
     ]
    }
   ],
   "source": [
    "cat('significance ', ab$p_value(min(df$timestamp),\n",
    "                              min(df$timestamp)))"
   ]
  },
  {
   "cell_type": "markdown",
   "id": "496ade50",
   "metadata": {},
   "source": [
    "## Change proportions"
   ]
  },
  {
   "cell_type": "code",
   "execution_count": 7,
   "id": "984b5b04",
   "metadata": {},
   "outputs": [
    {
     "name": "stdout",
     "output_type": "stream",
     "text": [
      "% difference  36.73469 \n",
      "significance  0.04752708"
     ]
    },
    {
     "data": {
      "image/png": "[encoded data removed]",
      "text/plain": [
       "Plot with title “AB”"
      ]
     },
     "metadata": {},
     "output_type": "display_data"
    }
   ],
   "source": [
    "df = sim_df(0.1,pB,nA,nB)\n",
    "ab <- ABTestDyn$new(df)\n",
    "  \n",
    "ab$plot_mos()\n",
    "cat('% difference ',ab$prc_diff(),'\\n')\n",
    "cat('significance ', ab$p_value(min(df$timestamp),max(df$timestamp)))"
   ]
  },
  {
   "cell_type": "code",
   "execution_count": null,
   "id": "686f7d24",
   "metadata": {},
   "outputs": [],
   "source": []
  }
 ],
 "metadata": {
  "kernelspec": {
   "display_name": "R",
   "language": "R",
   "name": "ir"
  },
  "language_info": {
   "codemirror_mode": "r",
   "file_extension": ".r",
   "mimetype": "text/x-r-source",
   "name": "R",
   "pygments_lexer": "r",
   "version": "3.6.1"
  }
 },
 "nbformat": 4,
 "nbformat_minor": 5
}
